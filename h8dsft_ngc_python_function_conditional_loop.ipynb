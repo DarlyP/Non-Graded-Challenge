{
 "cells": [
  {
   "cell_type": "markdown",
   "metadata": {},
   "source": [
    "Number of Word #1"
   ]
  },
  {
   "cell_type": "code",
   "execution_count": 1,
   "metadata": {},
   "outputs": [],
   "source": [
    "def number_of_word(sentence):\n",
    "    word = sentence.split()\n",
    "    return len(word)"
   ]
  },
  {
   "cell_type": "code",
   "execution_count": 2,
   "metadata": {},
   "outputs": [
    {
     "data": {
      "text/plain": [
       "2"
      ]
     },
     "execution_count": 2,
     "metadata": {},
     "output_type": "execute_result"
    }
   ],
   "source": [
    "number_of_word(sentence = \"Hello World!\")"
   ]
  },
  {
   "cell_type": "markdown",
   "metadata": {},
   "source": [
    "Find Multiple #2"
   ]
  },
  {
   "cell_type": "code",
   "execution_count": 3,
   "metadata": {},
   "outputs": [],
   "source": [
    "def find_multiple(start_range, end_range, multiple):\n",
    "    list1 = []\n",
    "    for i in range(start_range, (end_range + 1)):\n",
    "        if i % multiple == 0:\n",
    "            list1.append(i) \n",
    "    return list1"
   ]
  },
  {
   "cell_type": "code",
   "execution_count": 4,
   "metadata": {},
   "outputs": [
    {
     "data": {
      "text/plain": [
       "[5, 10, 15, 20]"
      ]
     },
     "execution_count": 4,
     "metadata": {},
     "output_type": "execute_result"
    }
   ],
   "source": [
    "find_multiple(start_range= 1, end_range= 20, multiple= 5)"
   ]
  },
  {
   "cell_type": "code",
   "execution_count": 5,
   "metadata": {},
   "outputs": [
    {
     "data": {
      "text/plain": [
       "[10, 20, 30, 40, 50]"
      ]
     },
     "execution_count": 5,
     "metadata": {},
     "output_type": "execute_result"
    }
   ],
   "source": [
    "find_multiple(start_range= 1, end_range= 50, multiple= 10)"
   ]
  },
  {
   "cell_type": "markdown",
   "metadata": {},
   "source": [
    "Grade Convertor #3"
   ]
  },
  {
   "cell_type": "code",
   "execution_count": 6,
   "metadata": {},
   "outputs": [],
   "source": [
    "def Grade_Converter(convert_to, **kwargs):\n",
    "    \n",
    "    for key, score in kwargs.items():\n",
    "        if 85 <= score < 100:\n",
    "            if convert_to == 'gpa':\n",
    "                return \"A\"\n",
    "            elif convert_to == 'letter_grade':\n",
    "                return 4\n",
    "        elif 70 < score < 84.99:\n",
    "            if convert_to == 'gpa':\n",
    "                return \"B\"\n",
    "            elif convert_to == 'letter_grade':\n",
    "                return 3\n",
    "        elif 60 <= score <= 69.99:\n",
    "            if convert_to == 'gpa':\n",
    "                return \"C\"\n",
    "            elif convert_to == 'letter_grade':\n",
    "                return 2.5\n",
    "        elif 50 <= score <= 59.99:\n",
    "            if convert_to == 'gpa':\n",
    "                return \"D\"\n",
    "            elif convert_to == 'letter_grade':\n",
    "                return 2\n",
    "        elif 40 <= score <= 49.99:\n",
    "            if convert_to == 'gpa':\n",
    "                return \"E\"\n",
    "            elif convert_to == 'letter_grade':\n",
    "                return 1.5\n",
    "        elif 0  <  score <= 39.99:\n",
    "            if convert_to == 'gpa':\n",
    "                return \"F\"\n",
    "            elif convert_to == 'letter_grade':\n",
    "                return 1"
   ]
  },
  {
   "cell_type": "code",
   "execution_count": 7,
   "metadata": {},
   "outputs": [
    {
     "data": {
      "text/plain": [
       "'C'"
      ]
     },
     "execution_count": 7,
     "metadata": {},
     "output_type": "execute_result"
    }
   ],
   "source": [
    "Grade_Converter(convert_to='gpa', Adam=62, Faiz=91)"
   ]
  },
  {
   "cell_type": "code",
   "execution_count": 8,
   "metadata": {},
   "outputs": [
    {
     "data": {
      "text/plain": [
       "4"
      ]
     },
     "execution_count": 8,
     "metadata": {},
     "output_type": "execute_result"
    }
   ],
   "source": [
    "Grade_Converter(convert_to='letter_grade', Albert=90, Dwi=82, Syahdan=58, Veronica=84)"
   ]
  },
  {
   "cell_type": "markdown",
   "metadata": {},
   "source": [
    "Fibonacci Sequence #4"
   ]
  },
  {
   "cell_type": "code",
   "execution_count": 9,
   "metadata": {},
   "outputs": [],
   "source": [
    "def my_function(n):\n",
    "    if n <= 1:\n",
    "        return n\n",
    "    else:\n",
    "        fib_sequence = [0, 1]\n",
    "        for i in range(2, n + 1):\n",
    "            fib_sequence.append(fib_sequence[-1] + fib_sequence[-2])\n",
    "        return fib_sequence[n]"
   ]
  },
  {
   "cell_type": "code",
   "execution_count": 10,
   "metadata": {},
   "outputs": [
    {
     "data": {
      "text/plain": [
       "0"
      ]
     },
     "execution_count": 10,
     "metadata": {},
     "output_type": "execute_result"
    }
   ],
   "source": [
    "my_function(n=0)"
   ]
  },
  {
   "cell_type": "code",
   "execution_count": 11,
   "metadata": {},
   "outputs": [
    {
     "data": {
      "text/plain": [
       "3"
      ]
     },
     "execution_count": 11,
     "metadata": {},
     "output_type": "execute_result"
    }
   ],
   "source": [
    "my_function(n=4)"
   ]
  },
  {
   "cell_type": "code",
   "execution_count": 12,
   "metadata": {},
   "outputs": [
    {
     "data": {
      "text/plain": [
       "55"
      ]
     },
     "execution_count": 12,
     "metadata": {},
     "output_type": "execute_result"
    }
   ],
   "source": [
    "my_function(n=10)"
   ]
  },
  {
   "cell_type": "code",
   "execution_count": null,
   "metadata": {},
   "outputs": [],
   "source": []
  }
 ],
 "metadata": {
  "kernelspec": {
   "display_name": "Python 3",
   "language": "python",
   "name": "python3"
  },
  "language_info": {
   "codemirror_mode": {
    "name": "ipython",
    "version": 3
   },
   "file_extension": ".py",
   "mimetype": "text/x-python",
   "name": "python",
   "nbconvert_exporter": "python",
   "pygments_lexer": "ipython3",
   "version": "3.9.2rc1"
  }
 },
 "nbformat": 4,
 "nbformat_minor": 2
}
